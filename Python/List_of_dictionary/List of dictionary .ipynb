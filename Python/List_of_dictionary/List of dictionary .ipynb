{
 "cells": [
  {
   "cell_type": "code",
   "execution_count": 1,
   "id": "df1492fb",
   "metadata": {},
   "outputs": [],
   "source": [
    "user_list = [\n",
    "{\n",
    "        \"name\": \"Kashan Malik\",\n",
    "        \"id\": 1,\n",
    "        \"user\": \"kashanali12\",\n",
    "        \"password\": \"password123\",\n",
    "        \"email\": \"kashanmalik990@gmail.com\",\n",
    "        \"phone\": \"03120445803\"\n",
    "    }\n",
    "\n",
    "]"
   ]
  },
  {
   "cell_type": "code",
   "execution_count": 2,
   "id": "092f71c2",
   "metadata": {},
   "outputs": [
    {
     "name": "stdout",
     "output_type": "stream",
     "text": [
      "Enter your user/email/phone: kashanali12\n",
      "Enter your password: password123\n",
      "Login successful!\n"
     ]
    }
   ],
   "source": [
    "def login():\n",
    "    login_input = input(\"Enter your user/email/phone: \")\n",
    "    password_input = input(\"Enter your password: \")\n",
    "    \n",
    "    for user in user_list:\n",
    "        if (\n",
    "            login_input == user[\"user\"]\n",
    "            or login_input == user[\"email\"]\n",
    "            or login_input == user[\"phone\"]\n",
    "        ) and password_input == user[\"password\"]:\n",
    "            print(\"Login successful!\")\n",
    "            return\n",
    "        \n",
    "    print(\"Invalid login credentials.\")\n",
    "\n",
    "\n",
    "# Test the login function\n",
    "login()"
   ]
  }
 ],
 "metadata": {
  "kernelspec": {
   "display_name": "Python 3 (ipykernel)",
   "language": "python",
   "name": "python3"
  },
  "language_info": {
   "codemirror_mode": {
    "name": "ipython",
    "version": 3
   },
   "file_extension": ".py",
   "mimetype": "text/x-python",
   "name": "python",
   "nbconvert_exporter": "python",
   "pygments_lexer": "ipython3",
   "version": "3.9.13"
  }
 },
 "nbformat": 4,
 "nbformat_minor": 5
}
